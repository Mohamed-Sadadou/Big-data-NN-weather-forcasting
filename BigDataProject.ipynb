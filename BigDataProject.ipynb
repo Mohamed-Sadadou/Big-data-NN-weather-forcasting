{
  "nbformat": 4,
  "nbformat_minor": 0,
  "metadata": {
    "colab": {
      "provenance": [],
      "gpuType": "T4"
    },
    "kernelspec": {
      "name": "python3",
      "display_name": "Python 3"
    },
    "language_info": {
      "name": "python"
    },
    "accelerator": "GPU",
    "gpuClass": "standard"
  },
  "cells": [
    {
      "cell_type": "code",
      "source": [
        "\n",
        "from abc import ABC, abstractmethod\n",
        "from tensorflow.keras.models import Sequential\n",
        "from tensorflow.keras.layers import Dense, Dropout, BatchNormalization, LSTM, Flatten\n",
        "from tensorflow.keras.callbacks import EarlyStopping\n",
        "from tensorflow.keras.optimizers import Adam\n",
        "import numpy as np\n",
        "\n",
        "class NeuralNet(ABC):\n",
        "    MAX_EPOCHS = 1000\n",
        "    BATCH_SIZE = 128\n",
        "    LOSS = 'mean_absolute_error'\n",
        "    METRICS = [ 'mean_squared_error']\n",
        "    LEARNING_RATE = 0.1\n",
        "    ACTIVATION = 'sigmoid'\n",
        "    NNEURONS = [8]\n",
        "\n",
        "    def __init__(self, **kwargs):\n",
        "        self.batch_size = kwargs.get('batch_size', NeuralNet.BATCH_SIZE)\n",
        "        self.loss = kwargs.get('loss', NeuralNet.LOSS)\n",
        "        self.metrics = kwargs.get('metrics', NeuralNet.METRICS)\n",
        "        self.max_epochs = kwargs.get('metrics', NeuralNet.MAX_EPOCHS)\n",
        "        self.learning_rate = kwargs.get('learning_rate', NeuralNet.LEARNING_RATE)\n",
        "        self.activation = kwargs.get('activation', NeuralNet.ACTIVATION)\n",
        "        self.nneurons = kwargs.get('nneurons', NeuralNet.NNEURONS[:])\n",
        "\n",
        "        self.model = Sequential()\n",
        "\n",
        "\n",
        "    @abstractmethod\n",
        "    def build_model(self):\n",
        "        pass\n",
        "\n",
        "    def train_model_with_valid(self, data_train_x, data_train_y, data_val_x, data_val_y):\n",
        "        opt = Adam(learning_rate=self.learning_rate)\n",
        "\n",
        "        self.model.compile(\n",
        "            loss = self.loss,\n",
        "            optimizer = opt,\n",
        "            metrics =  self.metrics\n",
        "        )\n",
        "\n",
        "        earlystopping = EarlyStopping(monitor='val_loss', min_delta=0.001, patience=100, verbose=0, mode='min', restore_best_weights=True)\n",
        "\n",
        "        self.model.fit(\n",
        "            data_train_x, data_train_y,\n",
        "            verbose=0,\n",
        "            shuffle=True,\n",
        "            batch_size=self.batch_size,\n",
        "            epochs=self.max_epochs,\n",
        "            validation_data=(data_val_x, data_val_y),\n",
        "            callbacks=[earlystopping]\n",
        "        )\n",
        "\n",
        "        hist = self.model.history.history['val_loss']\n",
        "        n_epochs_best = np.argmin(hist)\n",
        "        scores_validation = self.model.evaluate(data_val_x, data_val_y, verbose=0, batch_size=data_val_x.shape[0])\n",
        "\n",
        "        return (n_epochs_best, scores_validation[0])\n",
        "\n",
        "    def train_model(self, data_x, data_y, opt_epochs):\n",
        "        opt = Adam(learning_rate=self.learning_rate)\n",
        "        self.model.compile(\n",
        "            loss = self.loss,\n",
        "            optimizer = opt,\n",
        "            metrics =  self.metrics\n",
        "        )\n",
        "        print(\"compiled\")\n",
        "        self.model.fit(\n",
        "            data_x, data_y,\n",
        "            shuffle=True,\n",
        "            batch_size=self.batch_size,\n",
        "            epochs=int(opt_epochs),\n",
        "            validation_split = 0.0\n",
        "        )\n",
        "\n",
        "    def predict(self, data_x):\n",
        "        return self.model.predict(data_x, batch_size = data_x.shape[0])\n",
        "\n",
        "class MLP(NeuralNet):\n",
        "    def __init__(self,use_gpu=True, **kwargs):\n",
        "        super().__init__(**kwargs)\n",
        "        self.use_gpu = use_gpu\n",
        "\n",
        "    def build_model(self, input_shape):\n",
        "        self.model = Sequential()\n",
        "        self.model.add(Flatten(input_shape=input_shape))\n",
        "        for nn in self.nneurons:\n",
        "            self.model.add(Dense(nn, activation=self.activation))\n",
        "        self.model.add(Dense(1, activation='linear'))\n",
        "class LSTMc(NeuralNet):\n",
        "    def __init__(self, **kwargs):\n",
        "        super().__init__(**kwargs)\n",
        "\n",
        "    def build_model(self, input_shape):\n",
        "        self.model = Sequential()\n",
        "        if len(self.nneurons) == 1:\n",
        "            self.model.add(LSTM(self.nneurons[0], input_shape = input_shape, activation=self.activation))\n",
        "        else:\n",
        "            self.model.add(LSTM(self.nneurons[0], input_shape = input_shape, activation=self.activation, return_sequences=True))\n",
        "            for nn in self.nneurons[1:-1]:\n",
        "                self.model.add(LSTM(nn, activation=self.activation, return_sequences=True))\n",
        "            self.model.add(LSTM(self.nneurons[-1], activation=self.activation))\n",
        "\n",
        "        self.model.add(Dense(self.nneurons[-1], activation = self.activation))\n",
        "        self.model.add(Dense(1, activation = 'linear'))\n",
        "\n",
        "        #self.random_weights = self.model.get_weights() # save random weights to re-initialize the model in new runs\n",
        "class ArbitraryNN(NeuralNet):\n",
        "    def __init__(self, **kwargs):\n",
        "        super().__init__(**kwargs)\n",
        "\n",
        "    def build_model(self, input_shape):\n",
        "        self.model = Sequential()\n",
        "        self.model.add(LSTM(8, input_shape = input_shape, activation = 'tanh', return_sequences=True))\n",
        "        self.model.add(Dropout(0.1))\n",
        "        self.model.add(BatchNormalization())\n",
        "        self.model.add(LSTM(8, activation = 'tanh'))\n",
        "        self.model.add(Dropout(0.1))\n",
        "        self.model.add(BatchNormalization())\n",
        "        self.model.add(Dense(8, activation = 'sigmoid'))\n",
        "        self.model.add(Dense(1, activation = 'linear'))\n",
        "\n",
        "        #self.random_weights = self.model.get_weights() # save random weights to re-initialize the model in new runs\n"
      ],
      "metadata": {
        "id": "ZX5sQC0TE_CB"
      },
      "execution_count": null,
      "outputs": []
    },
    {
      "cell_type": "code",
      "execution_count": null,
      "metadata": {
        "colab": {
          "base_uri": "https://localhost:8080/"
        },
        "id": "45_0A5XZCsEp",
        "outputId": "b4441646-b9ad-4991-ec3e-0b05d1067831"
      },
      "outputs": [
        {
          "output_type": "stream",
          "name": "stdout",
          "text": [
            "Drive already mounted at /content/drive; to attempt to forcibly remount, call drive.mount(\"/content/drive\", force_remount=True).\n"
          ]
        }
      ],
      "source": [
        "import pandas as pd\n",
        "import numpy as np\n",
        "from sklearn.model_selection import train_test_split\n",
        "from google.colab import drive\n",
        "drive.mount('/content/drive')\n",
        "df = pd.read_csv(\"/content/drive/MyDrive/Vig/Historical weahe.csv\")\n"
      ]
    },
    {
      "cell_type": "code",
      "source": [
        "df.set_index('time', inplace=True)\n",
        "X = df.drop(columns=['shortwave_radiation (W/m²)'])\n",
        "y = df['shortwave_radiation (W/m²)']"
      ],
      "metadata": {
        "id": "O5seULkVIgPU"
      },
      "execution_count": null,
      "outputs": []
    },
    {
      "cell_type": "code",
      "source": [
        "X_train, X_test, y_train, y_test = train_test_split(X, y, test_size=0.2, random_state=42)\n",
        "X_train, X_val, y_train, y_val = train_test_split(X_train, y_train, test_size=0.125, random_state=42)\n"
      ],
      "metadata": {
        "id": "2JY4Yn2kE-ZA"
      },
      "execution_count": null,
      "outputs": []
    },
    {
      "cell_type": "code",
      "source": [
        "mlp = MLP(nneurons=[32, 32], activation=\"relu\")\n",
        "mlp.build_model((1,18))\n",
        "print(X_train.shape)"
      ],
      "metadata": {
        "colab": {
          "base_uri": "https://localhost:8080/"
        },
        "id": "2U1SxIWeFmN2",
        "outputId": "0f2abf7a-315f-4edb-b3aa-e603d8714681"
      },
      "execution_count": null,
      "outputs": [
        {
          "output_type": "stream",
          "name": "stdout",
          "text": [
            "(480412, 18)\n"
          ]
        }
      ]
    },
    {
      "cell_type": "code",
      "source": [
        "X_train_reshaped = np.expand_dims(X_train.values, axis=1)\n",
        "print(X_train_reshaped.shape)"
      ],
      "metadata": {
        "colab": {
          "base_uri": "https://localhost:8080/"
        },
        "id": "IZk6xnl7NWIA",
        "outputId": "4e6fa48e-2c86-4536-874f-e60ce751fb70"
      },
      "execution_count": null,
      "outputs": [
        {
          "output_type": "stream",
          "name": "stdout",
          "text": [
            "(480412, 1, 18)\n"
          ]
        }
      ]
    },
    {
      "cell_type": "code",
      "source": [
        "mlp.train_model(X_train_reshaped, y_train.values, 50)"
      ],
      "metadata": {
        "colab": {
          "base_uri": "https://localhost:8080/"
        },
        "id": "E1I5CA44NfHR",
        "outputId": "0e2deca3-a1e3-4e49-e5b8-2b97edccdec8"
      },
      "execution_count": null,
      "outputs": [
        {
          "output_type": "stream",
          "name": "stdout",
          "text": [
            "compiled\n",
            "Epoch 1/50\n",
            "3754/3754 [==============================] - 20s 3ms/step - loss: 9.7308 - mean_squared_error: 1259.3289\n",
            "Epoch 2/50\n",
            "3754/3754 [==============================] - 12s 3ms/step - loss: 8.6344 - mean_squared_error: 308.5759\n",
            "Epoch 3/50\n",
            "3754/3754 [==============================] - 12s 3ms/step - loss: 8.4762 - mean_squared_error: 302.0716\n",
            "Epoch 4/50\n",
            "3754/3754 [==============================] - 12s 3ms/step - loss: 9.0202 - mean_squared_error: 358.6402\n",
            "Epoch 5/50\n",
            "3754/3754 [==============================] - 12s 3ms/step - loss: 10.6008 - mean_squared_error: 473.0415\n",
            "Epoch 6/50\n",
            "3754/3754 [==============================] - 12s 3ms/step - loss: 12.1924 - mean_squared_error: 600.3099\n",
            "Epoch 7/50\n",
            "3754/3754 [==============================] - 13s 3ms/step - loss: 13.8934 - mean_squared_error: 816.1495\n",
            "Epoch 8/50\n",
            "3754/3754 [==============================] - 12s 3ms/step - loss: 14.8429 - mean_squared_error: 921.1338\n",
            "Epoch 9/50\n",
            "3754/3754 [==============================] - 12s 3ms/step - loss: 13.6329 - mean_squared_error: 863.2997\n",
            "Epoch 10/50\n",
            "3754/3754 [==============================] - 12s 3ms/step - loss: 15.7607 - mean_squared_error: 1099.9813\n",
            "Epoch 11/50\n",
            "3754/3754 [==============================] - 12s 3ms/step - loss: 16.2447 - mean_squared_error: 1093.1025\n",
            "Epoch 12/50\n",
            "3754/3754 [==============================] - 12s 3ms/step - loss: 17.3796 - mean_squared_error: 1099.1830\n",
            "Epoch 13/50\n",
            "3754/3754 [==============================] - 12s 3ms/step - loss: 16.3394 - mean_squared_error: 1132.8915\n",
            "Epoch 14/50\n",
            "3754/3754 [==============================] - 12s 3ms/step - loss: 15.2168 - mean_squared_error: 1104.1671\n",
            "Epoch 15/50\n",
            "3754/3754 [==============================] - 12s 3ms/step - loss: 17.8736 - mean_squared_error: 1395.7673\n",
            "Epoch 16/50\n",
            "3754/3754 [==============================] - 12s 3ms/step - loss: 10.7350 - mean_squared_error: 557.0320\n",
            "Epoch 17/50\n",
            "3754/3754 [==============================] - 12s 3ms/step - loss: 8.4684 - mean_squared_error: 305.6178\n",
            "Epoch 18/50\n",
            "3754/3754 [==============================] - 12s 3ms/step - loss: 7.9017 - mean_squared_error: 256.1604\n",
            "Epoch 19/50\n",
            "3754/3754 [==============================] - 12s 3ms/step - loss: 8.2543 - mean_squared_error: 296.3924\n",
            "Epoch 20/50\n",
            "3754/3754 [==============================] - 12s 3ms/step - loss: 7.6071 - mean_squared_error: 234.3792\n",
            "Epoch 21/50\n",
            "3754/3754 [==============================] - 12s 3ms/step - loss: 8.0725 - mean_squared_error: 263.3394\n",
            "Epoch 22/50\n",
            "3754/3754 [==============================] - 13s 3ms/step - loss: 8.0064 - mean_squared_error: 266.7289\n",
            "Epoch 23/50\n",
            "3754/3754 [==============================] - 12s 3ms/step - loss: 7.8440 - mean_squared_error: 254.4599\n",
            "Epoch 24/50\n",
            "3754/3754 [==============================] - 12s 3ms/step - loss: 7.9299 - mean_squared_error: 247.3624\n",
            "Epoch 25/50\n",
            "3754/3754 [==============================] - 12s 3ms/step - loss: 7.4103 - mean_squared_error: 225.1149\n",
            "Epoch 26/50\n",
            "3754/3754 [==============================] - 12s 3ms/step - loss: 7.5633 - mean_squared_error: 234.1524\n",
            "Epoch 27/50\n",
            "3754/3754 [==============================] - 12s 3ms/step - loss: 7.6962 - mean_squared_error: 248.1924\n",
            "Epoch 28/50\n",
            "3754/3754 [==============================] - 12s 3ms/step - loss: 8.0201 - mean_squared_error: 263.2445\n",
            "Epoch 29/50\n",
            "3754/3754 [==============================] - 12s 3ms/step - loss: 7.8978 - mean_squared_error: 260.8405\n",
            "Epoch 30/50\n",
            "3754/3754 [==============================] - 12s 3ms/step - loss: 7.9083 - mean_squared_error: 255.1425\n",
            "Epoch 31/50\n",
            "3754/3754 [==============================] - 12s 3ms/step - loss: 7.5041 - mean_squared_error: 228.5355\n",
            "Epoch 32/50\n",
            "3754/3754 [==============================] - 12s 3ms/step - loss: 7.8424 - mean_squared_error: 259.0097\n",
            "Epoch 33/50\n",
            "3754/3754 [==============================] - 12s 3ms/step - loss: 7.7376 - mean_squared_error: 247.6833\n",
            "Epoch 34/50\n",
            "3754/3754 [==============================] - 12s 3ms/step - loss: 7.4979 - mean_squared_error: 229.3768\n",
            "Epoch 35/50\n",
            "3754/3754 [==============================] - 12s 3ms/step - loss: 7.7310 - mean_squared_error: 250.0428\n",
            "Epoch 36/50\n",
            "3754/3754 [==============================] - 12s 3ms/step - loss: 7.5777 - mean_squared_error: 232.2218\n",
            "Epoch 37/50\n",
            "3754/3754 [==============================] - 13s 3ms/step - loss: 7.4296 - mean_squared_error: 229.5327\n",
            "Epoch 38/50\n",
            "3754/3754 [==============================] - 12s 3ms/step - loss: 7.9262 - mean_squared_error: 258.4515\n",
            "Epoch 39/50\n",
            "3754/3754 [==============================] - 12s 3ms/step - loss: 7.7356 - mean_squared_error: 247.5079\n",
            "Epoch 40/50\n",
            "3754/3754 [==============================] - 12s 3ms/step - loss: 7.5434 - mean_squared_error: 237.2059\n",
            "Epoch 41/50\n",
            "3754/3754 [==============================] - 12s 3ms/step - loss: 7.3748 - mean_squared_error: 226.5969\n",
            "Epoch 42/50\n",
            "3754/3754 [==============================] - 13s 3ms/step - loss: 7.6128 - mean_squared_error: 236.3147\n",
            "Epoch 43/50\n",
            "3754/3754 [==============================] - 13s 3ms/step - loss: 7.3844 - mean_squared_error: 223.3155\n",
            "Epoch 44/50\n",
            "3754/3754 [==============================] - 12s 3ms/step - loss: 7.4337 - mean_squared_error: 222.2719\n",
            "Epoch 45/50\n",
            "3754/3754 [==============================] - 12s 3ms/step - loss: 7.7494 - mean_squared_error: 256.4694\n",
            "Epoch 46/50\n",
            "3754/3754 [==============================] - 12s 3ms/step - loss: 7.2831 - mean_squared_error: 214.1181\n",
            "Epoch 47/50\n",
            "3754/3754 [==============================] - 13s 3ms/step - loss: 7.8974 - mean_squared_error: 268.3129\n",
            "Epoch 48/50\n",
            "3754/3754 [==============================] - 12s 3ms/step - loss: 7.6860 - mean_squared_error: 242.0829\n",
            "Epoch 49/50\n",
            "3754/3754 [==============================] - 12s 3ms/step - loss: 7.7912 - mean_squared_error: 248.9967\n",
            "Epoch 50/50\n",
            "3754/3754 [==============================] - 13s 3ms/step - loss: 7.8319 - mean_squared_error: 253.2348\n"
          ]
        }
      ]
    },
    {
      "cell_type": "code",
      "source": [
        "X_test_reshaped = np.expand_dims(X_test.values, axis=1)\n",
        "print(X_test_reshaped.shape)"
      ],
      "metadata": {
        "colab": {
          "base_uri": "https://localhost:8080/"
        },
        "id": "Aj3ScGzaNUoy",
        "outputId": "6149daba-c5ab-4f9e-c615-8b63aa9e4064"
      },
      "execution_count": null,
      "outputs": [
        {
          "output_type": "stream",
          "name": "stdout",
          "text": [
            "(137261, 1, 18)\n"
          ]
        }
      ]
    },
    {
      "cell_type": "code",
      "source": [
        "predictions_test = mlp.predict(X_test_reshaped)"
      ],
      "metadata": {
        "colab": {
          "base_uri": "https://localhost:8080/"
        },
        "id": "sIF-KuMFNoJf",
        "outputId": "51fc5026-b959-44be-cc26-43ed509aacc0"
      },
      "execution_count": null,
      "outputs": [
        {
          "output_type": "stream",
          "name": "stdout",
          "text": [
            "1/1 [==============================] - 0s 97ms/step\n"
          ]
        }
      ]
    },
    {
      "cell_type": "code",
      "source": [
        "print(predictions_test.shape)"
      ],
      "metadata": {
        "colab": {
          "base_uri": "https://localhost:8080/"
        },
        "id": "27eYjlNbQBUL",
        "outputId": "162f1d55-bf6d-44d9-f843-dce3f52252bf"
      },
      "execution_count": null,
      "outputs": [
        {
          "output_type": "stream",
          "name": "stdout",
          "text": [
            "(137261, 1)\n"
          ]
        }
      ]
    },
    {
      "cell_type": "code",
      "source": [
        "print(y_test.shape)"
      ],
      "metadata": {
        "colab": {
          "base_uri": "https://localhost:8080/"
        },
        "id": "PwdkX_2jQqbP",
        "outputId": "d100ef36-e4d6-42fa-96f2-54e96c4b0cf2"
      },
      "execution_count": null,
      "outputs": [
        {
          "output_type": "stream",
          "name": "stdout",
          "text": [
            "(137261,)\n"
          ]
        }
      ]
    },
    {
      "cell_type": "code",
      "source": [
        "import matplotlib.pyplot as plt\n",
        "predictions_test = mlp.predict(X_test_reshaped)\n",
        "plt.scatter(y_test, predictions_test, c='b', marker='.', label='Mesuré')\n",
        "plt.scatter(y_test, y_test, c='r', marker='.', label='Prédit')\n",
        "plt.xlabel(\"shortwave_radiation mesurée ROUGE\")\n",
        "plt.ylabel(\"shortwave_radiation prédite BLEU\")\n",
        "plt.title(\"Comparaison de la puissance mesurée et prédite\")\n",
        "plt.show()\n"
      ],
      "metadata": {
        "colab": {
          "base_uri": "https://localhost:8080/",
          "height": 490
        },
        "id": "VuLVPtAV_2k7",
        "outputId": "7ec5486c-0d9e-44da-df37-fca8a1444974"
      },
      "execution_count": null,
      "outputs": [
        {
          "output_type": "stream",
          "name": "stdout",
          "text": [
            "1/1 [==============================] - 0s 26ms/step\n"
          ]
        },
        {
          "output_type": "display_data",
          "data": {
            "text/plain": [
              "<Figure size 640x480 with 1 Axes>"
            ],
            "image/png": "[encoded data removed]"
          },
          "metadata": {}
        }
      ]
    },
    {
      "cell_type": "code",
      "source": [
        "from sklearn.metrics import mean_squared_error\n",
        "from sklearn.metrics import mean_absolute_error\n",
        "mse = mean_squared_error(y_test, predictions_test)\n",
        "mae = mean_absolute_error(y_test, predictions_test)\n",
        "print(\"Mean Absolute Error (MAE): \", mae)\n",
        "# afficher le résultat\n",
        "print(\"Mean Squared Error (MSE) :\", mse)"
      ],
      "metadata": {
        "colab": {
          "base_uri": "https://localhost:8080/"
        },
        "id": "ZpT1Lij4QVLo",
        "outputId": "fa9a46c5-c635-45f7-c16e-2ee7db72ce47"
      },
      "execution_count": null,
      "outputs": [
        {
          "output_type": "stream",
          "name": "stdout",
          "text": [
            "Mean Absolute Error (MAE):  3.2381504674212485\n",
            "Mean Squared Error (MSE) : 27.995598764217227\n"
          ]
        }
      ]
    },
    {
      "cell_type": "code",
      "source": [
        "from sklearn.metrics import mean_absolute_error, mean_squared_error\n",
        "import numpy as np\n",
        "\n",
        "# Calcul des différentes métriques d'évaluation\n",
        "mse = mean_squared_error(y_test, predictions_test)\n",
        "mae = mean_absolute_error(y_test, predictions_test)\n",
        "rmse = np.sqrt(mse)\n",
        "nmae = mae / np.mean(y_test)\n",
        "nrmse = rmse / np.mean(y_test)\n",
        "\n",
        "# Affichage des métriques sous forme de tableau\n",
        "print('| Métrique | Valeur |')\n",
        "print('| --- | --- |')\n",
        "print('| MSE | {:.3f} |'.format(mse))\n",
        "print('| MAE | {:.3f} |'.format(mae))\n",
        "print('| RMSE | {:.3f} |'.format(rmse))\n",
        "print('| nMAE | {:.3f} |'.format(nmae))\n",
        "print('| nRMSE | {:.3f} |'.format(nrmse))\n"
      ],
      "metadata": {
        "colab": {
          "base_uri": "https://localhost:8080/"
        },
        "id": "ch1QQR2vVRre",
        "outputId": "7e19abe6-8693-4c62-e4f1-6fa31acf141a"
      },
      "execution_count": null,
      "outputs": [
        {
          "output_type": "stream",
          "name": "stdout",
          "text": [
            "| Métrique | Valeur |\n",
            "| --- | --- |\n",
            "| MSE | 27.996 |\n",
            "| MAE | 3.238 |\n",
            "| RMSE | 5.291 |\n",
            "| nMAE | 0.027 |\n",
            "| nRMSE | 0.044 |\n"
          ]
        }
      ]
    },
    {
      "cell_type": "code",
      "source": [
        "lstmc = LSTMc(nneurons=[16], activation=\"relu\")\n",
        "lstmc.build_model((1,18))\n",
        "print(X_train.shape)"
      ],
      "metadata": {
        "colab": {
          "base_uri": "https://localhost:8080/"
        },
        "id": "YJafBHTTjd_c",
        "outputId": "a458b359-9acd-4f08-8c6b-8527cd7f1d00"
      },
      "execution_count": null,
      "outputs": [
        {
          "output_type": "stream",
          "name": "stderr",
          "text": [
            "WARNING:tensorflow:Layer lstm_8 will not use cuDNN kernels since it doesn't meet the criteria. It will use a generic GPU kernel as fallback when running on GPU.\n"
          ]
        },
        {
          "output_type": "stream",
          "name": "stdout",
          "text": [
            "(480412, 18)\n"
          ]
        }
      ]
    },
    {
      "cell_type": "code",
      "source": [
        "X_train_reshaped = np.expand_dims(X_train.values, axis=1)\n",
        "print(X_train_reshaped.shape)"
      ],
      "metadata": {
        "colab": {
          "base_uri": "https://localhost:8080/"
        },
        "id": "-biU1B4EkOuT",
        "outputId": "4dccfe26-3d65-4cfa-b36d-aca6d12e7ca4"
      },
      "execution_count": null,
      "outputs": [
        {
          "output_type": "stream",
          "name": "stdout",
          "text": [
            "(480412, 1, 18)\n"
          ]
        }
      ]
    },
    {
      "cell_type": "code",
      "source": [
        "lstmc.train_model(X_train_reshaped, y_train.values, 50)"
      ],
      "metadata": {
        "colab": {
          "base_uri": "https://localhost:8080/"
        },
        "id": "tix6_zpRkUQK",
        "outputId": "ffc863f6-8293-4ecb-e953-f61f5bf696db"
      },
      "execution_count": null,
      "outputs": [
        {
          "output_type": "stream",
          "name": "stdout",
          "text": [
            "compiled\n",
            "Epoch 1/50\n",
            "3754/3754 [==============================] - 26s 6ms/step - loss: 8.4792 - mean_squared_error: 529.6275\n",
            "Epoch 2/50\n",
            "3754/3754 [==============================] - 24s 6ms/step - loss: 7.8876 - mean_squared_error: 252.5985\n",
            "Epoch 3/50\n",
            "3754/3754 [==============================] - 24s 6ms/step - loss: 7.1341 - mean_squared_error: 214.4392\n",
            "Epoch 4/50\n",
            "3754/3754 [==============================] - 24s 6ms/step - loss: 7.5444 - mean_squared_error: 232.4021\n",
            "Epoch 5/50\n",
            "3754/3754 [==============================] - 24s 7ms/step - loss: 7.7131 - mean_squared_error: 247.2347\n",
            "Epoch 6/50\n",
            "3754/3754 [==============================] - 24s 6ms/step - loss: 7.4226 - mean_squared_error: 227.7480\n",
            "Epoch 7/50\n",
            "3754/3754 [==============================] - 22s 6ms/step - loss: 7.4037 - mean_squared_error: 224.7157\n",
            "Epoch 8/50\n",
            "3754/3754 [==============================] - 24s 6ms/step - loss: 7.7906 - mean_squared_error: 253.0936\n",
            "Epoch 9/50\n",
            "3754/3754 [==============================] - 25s 7ms/step - loss: 7.7056 - mean_squared_error: 238.6512\n",
            "Epoch 10/50\n",
            "3754/3754 [==============================] - 24s 6ms/step - loss: 7.4051 - mean_squared_error: 230.3937\n",
            "Epoch 11/50\n",
            "3754/3754 [==============================] - 23s 6ms/step - loss: 7.6710 - mean_squared_error: 242.0452\n",
            "Epoch 12/50\n",
            "3754/3754 [==============================] - 24s 6ms/step - loss: 7.4199 - mean_squared_error: 222.6046\n",
            "Epoch 13/50\n",
            "3754/3754 [==============================] - 24s 6ms/step - loss: 7.7101 - mean_squared_error: 243.9807\n",
            "Epoch 14/50\n",
            "3754/3754 [==============================] - 23s 6ms/step - loss: 7.5974 - mean_squared_error: 237.6724\n",
            "Epoch 15/50\n",
            "3754/3754 [==============================] - 23s 6ms/step - loss: 7.6833 - mean_squared_error: 249.4996\n",
            "Epoch 16/50\n",
            "3754/3754 [==============================] - 24s 6ms/step - loss: 7.6729 - mean_squared_error: 247.1371\n",
            "Epoch 17/50\n",
            "3754/3754 [==============================] - 24s 6ms/step - loss: 7.4540 - mean_squared_error: 227.8510\n",
            "Epoch 18/50\n",
            "3754/3754 [==============================] - 23s 6ms/step - loss: 7.6997 - mean_squared_error: 241.2172\n",
            "Epoch 19/50\n",
            "3754/3754 [==============================] - 24s 6ms/step - loss: 7.5414 - mean_squared_error: 242.5118\n",
            "Epoch 20/50\n",
            "3754/3754 [==============================] - 24s 6ms/step - loss: 7.4237 - mean_squared_error: 219.5490\n",
            "Epoch 21/50\n",
            "3754/3754 [==============================] - 24s 6ms/step - loss: 7.7163 - mean_squared_error: 244.2282\n",
            "Epoch 22/50\n",
            "3754/3754 [==============================] - 25s 7ms/step - loss: 8.0752 - mean_squared_error: 266.7882\n",
            "Epoch 23/50\n",
            "3754/3754 [==============================] - 23s 6ms/step - loss: 7.7858 - mean_squared_error: 249.5148\n",
            "Epoch 24/50\n",
            "3754/3754 [==============================] - 25s 7ms/step - loss: 8.0386 - mean_squared_error: 270.8754\n",
            "Epoch 25/50\n",
            "3754/3754 [==============================] - 24s 6ms/step - loss: 7.8478 - mean_squared_error: 259.9781\n",
            "Epoch 26/50\n",
            "3754/3754 [==============================] - 24s 7ms/step - loss: 7.4702 - mean_squared_error: 235.1464\n",
            "Epoch 27/50\n",
            "3754/3754 [==============================] - 23s 6ms/step - loss: 7.4215 - mean_squared_error: 227.7997\n",
            "Epoch 28/50\n",
            "3754/3754 [==============================] - 24s 6ms/step - loss: 7.6708 - mean_squared_error: 238.6988\n",
            "Epoch 29/50\n",
            "3754/3754 [==============================] - 24s 6ms/step - loss: 8.0289 - mean_squared_error: 269.3517\n",
            "Epoch 30/50\n",
            "3754/3754 [==============================] - 24s 6ms/step - loss: 7.4013 - mean_squared_error: 226.8116\n",
            "Epoch 31/50\n",
            "3754/3754 [==============================] - 23s 6ms/step - loss: 7.6444 - mean_squared_error: 242.7296\n",
            "Epoch 32/50\n",
            "3754/3754 [==============================] - 24s 6ms/step - loss: 7.7289 - mean_squared_error: 249.4269\n",
            "Epoch 33/50\n",
            "3754/3754 [==============================] - 24s 6ms/step - loss: 7.9904 - mean_squared_error: 259.7685\n",
            "Epoch 34/50\n",
            "3754/3754 [==============================] - 24s 6ms/step - loss: 7.7548 - mean_squared_error: 245.8676\n",
            "Epoch 35/50\n",
            "3754/3754 [==============================] - 23s 6ms/step - loss: 8.0004 - mean_squared_error: 262.1755\n",
            "Epoch 36/50\n",
            "3754/3754 [==============================] - 24s 6ms/step - loss: 7.5929 - mean_squared_error: 237.9098\n",
            "Epoch 37/50\n",
            "3754/3754 [==============================] - 24s 6ms/step - loss: 7.7636 - mean_squared_error: 250.0953\n",
            "Epoch 38/50\n",
            "3754/3754 [==============================] - 23s 6ms/step - loss: 7.5470 - mean_squared_error: 237.0456\n",
            "Epoch 39/50\n",
            "3754/3754 [==============================] - 24s 6ms/step - loss: 7.5284 - mean_squared_error: 231.6961\n",
            "Epoch 40/50\n",
            "3754/3754 [==============================] - 25s 7ms/step - loss: 8.1402 - mean_squared_error: 281.7727\n",
            "Epoch 41/50\n",
            "3754/3754 [==============================] - 24s 6ms/step - loss: 7.3783 - mean_squared_error: 222.2983\n",
            "Epoch 42/50\n",
            "3754/3754 [==============================] - 23s 6ms/step - loss: 7.6311 - mean_squared_error: 232.3594\n",
            "Epoch 43/50\n",
            "3754/3754 [==============================] - 24s 6ms/step - loss: 7.5729 - mean_squared_error: 234.0690\n",
            "Epoch 44/50\n",
            "3754/3754 [==============================] - 24s 6ms/step - loss: 7.7809 - mean_squared_error: 250.7999\n",
            "Epoch 45/50\n",
            "3754/3754 [==============================] - 24s 6ms/step - loss: 7.7041 - mean_squared_error: 238.8832\n",
            "Epoch 46/50\n",
            "3754/3754 [==============================] - 24s 6ms/step - loss: 7.6963 - mean_squared_error: 249.7983\n",
            "Epoch 47/50\n",
            "3754/3754 [==============================] - 23s 6ms/step - loss: 7.7002 - mean_squared_error: 246.0973\n",
            "Epoch 48/50\n",
            "3754/3754 [==============================] - 24s 6ms/step - loss: 7.4628 - mean_squared_error: 226.1636\n",
            "Epoch 49/50\n",
            "3754/3754 [==============================] - 24s 6ms/step - loss: 7.5224 - mean_squared_error: 232.1585\n",
            "Epoch 50/50\n",
            "3754/3754 [==============================] - 23s 6ms/step - loss: 7.3212 - mean_squared_error: 213.1959\n"
          ]
        }
      ]
    },
    {
      "cell_type": "code",
      "source": [
        "X_test_reshaped = np.expand_dims(X_test.values, axis=1)\n",
        "print(X_test_reshaped.shape)"
      ],
      "metadata": {
        "colab": {
          "base_uri": "https://localhost:8080/"
        },
        "id": "aYgoQvwvtSxi",
        "outputId": "c404c0b7-1d93-40a7-eec1-68403f60cec8"
      },
      "execution_count": null,
      "outputs": [
        {
          "output_type": "stream",
          "name": "stdout",
          "text": [
            "(137261, 1, 18)\n"
          ]
        }
      ]
    },
    {
      "cell_type": "code",
      "source": [
        "predictions_test = lstmc.predict(X_test_reshaped)"
      ],
      "metadata": {
        "colab": {
          "base_uri": "https://localhost:8080/"
        },
        "id": "ZcBsUKJBtWiQ",
        "outputId": "03ecf4c2-e962-4418-e73a-75bd4c630c37"
      },
      "execution_count": null,
      "outputs": [
        {
          "output_type": "stream",
          "name": "stdout",
          "text": [
            "1/1 [==============================] - 0s 170ms/step\n"
          ]
        }
      ]
    },
    {
      "cell_type": "code",
      "source": [
        "print(predictions_test.shape)"
      ],
      "metadata": {
        "colab": {
          "base_uri": "https://localhost:8080/"
        },
        "id": "pU9Tg1cVtcec",
        "outputId": "5d0174f1-78dc-41e5-ae92-73a7ec83c461"
      },
      "execution_count": null,
      "outputs": [
        {
          "output_type": "stream",
          "name": "stdout",
          "text": [
            "(137261, 1)\n"
          ]
        }
      ]
    },
    {
      "cell_type": "code",
      "source": [
        "from sklearn.metrics import mean_squared_error\n",
        "from sklearn.metrics import mean_absolute_error\n",
        "mse = mean_squared_error(y_test, predictions_test)\n",
        "mae = mean_absolute_error(y_test, predictions_test)\n",
        "print(\"Mean Absolute Error (MAE): \", mae)\n",
        "# afficher le résultat\n",
        "print(\"Mean Squared Error (MSE) :\", mse)"
      ],
      "metadata": {
        "colab": {
          "base_uri": "https://localhost:8080/"
        },
        "id": "lLHbw5r8tfeV",
        "outputId": "1e595dfe-33f2-4c12-bccb-3458557a08da"
      },
      "execution_count": null,
      "outputs": [
        {
          "output_type": "stream",
          "name": "stdout",
          "text": [
            "Mean Absolute Error (MAE):  9.721366953308083\n",
            "Mean Squared Error (MSE) : 297.61027887124254\n"
          ]
        }
      ]
    },
    {
      "cell_type": "code",
      "source": [
        "from sklearn.metrics import mean_absolute_error, mean_squared_error\n",
        "import numpy as np\n",
        "\n",
        "# Calcul des différentes métriques d'évaluation\n",
        "mse = mean_squared_error(y_test, predictions_test)\n",
        "mae = mean_absolute_error(y_test, predictions_test)\n",
        "rmse = np.sqrt(mse)\n",
        "nmae = mae / np.mean(y_test)\n",
        "nrmse = rmse / np.mean(y_test)\n",
        "\n",
        "# Affichage des métriques sous forme de tableau\n",
        "print('| Métrique | Valeur |')\n",
        "print('| --- | --- |')\n",
        "print('| MSE | {:.3f} |'.format(mse))\n",
        "print('| MAE | {:.3f} |'.format(mae))\n",
        "print('| RMSE | {:.3f} |'.format(rmse))\n",
        "print('| nMAE | {:.3f} |'.format(nmae))\n",
        "print('| nRMSE | {:.3f} |'.format(nrmse))"
      ],
      "metadata": {
        "colab": {
          "base_uri": "https://localhost:8080/"
        },
        "id": "yfSNG06ttkpv",
        "outputId": "75665056-a91b-471a-e0f0-de1d38dd6406"
      },
      "execution_count": null,
      "outputs": [
        {
          "output_type": "stream",
          "name": "stdout",
          "text": [
            "| Métrique | Valeur |\n",
            "| --- | --- |\n",
            "| MSE | 297.610 |\n",
            "| MAE | 9.721 |\n",
            "| RMSE | 17.251 |\n",
            "| nMAE | 0.081 |\n",
            "| nRMSE | 0.144 |\n"
          ]
        }
      ]
    },
    {
      "cell_type": "code",
      "source": [
        "import matplotlib.pyplot as plt\n",
        "\n",
        "plt.scatter(y_test, predictions_test, c='b', marker='.', label='Mesuré')\n",
        "plt.scatter(y_test, y_test, c='r', marker='.', label='Prédit')\n",
        "plt.xlabel(\"shortwave_radiation mesurée\")\n",
        "plt.ylabel(\"shortwave_radiation prédite\")\n",
        "plt.title(\"Comparaison de la puissance mesurée et prédite\")\n",
        "plt.show()\n"
      ],
      "metadata": {
        "colab": {
          "base_uri": "https://localhost:8080/",
          "height": 473
        },
        "id": "YckeLVfDEEhA",
        "outputId": "64140bc0-00bf-4019-88fe-5fe52f93f17c"
      },
      "execution_count": null,
      "outputs": [
        {
          "output_type": "display_data",
          "data": {
            "text/plain": [
              "<Figure size 640x480 with 1 Axes>"
            ],
            "image/png": "[encoded data removed]"
          },
          "metadata": {}
        }
      ]
    },
    {
      "cell_type": "code",
      "source": [
        "arb = ArbitraryNN(nneurons=[16,16], activation=\"relu\")\n",
        "arb.build_model((1,18))\n",
        "print(X_train.shape)"
      ],
      "metadata": {
        "colab": {
          "base_uri": "https://localhost:8080/"
        },
        "id": "7dvzpdfxEclw",
        "outputId": "67ab9d52-d2c8-4105-ced9-8bb61beb09d4"
      },
      "execution_count": null,
      "outputs": [
        {
          "output_type": "stream",
          "name": "stdout",
          "text": [
            "(480412, 18)\n"
          ]
        }
      ]
    },
    {
      "cell_type": "code",
      "source": [
        "X_train_reshaped = np.expand_dims(X_train.values, axis=1)\n",
        "print(X_train_reshaped.shape)"
      ],
      "metadata": {
        "colab": {
          "base_uri": "https://localhost:8080/"
        },
        "id": "0hfIxSYfEw_g",
        "outputId": "42888b5f-ffc5-47a8-ef3d-530ee7a336f6"
      },
      "execution_count": null,
      "outputs": [
        {
          "output_type": "stream",
          "name": "stdout",
          "text": [
            "(480412, 1, 18)\n"
          ]
        }
      ]
    },
    {
      "cell_type": "code",
      "source": [
        "arb.train_model(X_train_reshaped, y_train.values, 50)"
      ],
      "metadata": {
        "colab": {
          "base_uri": "https://localhost:8080/"
        },
        "id": "6afsMmDiEzsn",
        "outputId": "81208bce-6ad8-4dd5-cfd5-9795de8e6dbc"
      },
      "execution_count": null,
      "outputs": [
        {
          "output_type": "stream",
          "name": "stdout",
          "text": [
            "compiled\n",
            "Epoch 1/50\n",
            "3754/3754 [==============================] - 35s 8ms/step - loss: 119.0479 - mean_squared_error: 47679.7070\n",
            "Epoch 2/50\n",
            "3754/3754 [==============================] - 29s 8ms/step - loss: 119.0444 - mean_squared_error: 47692.3633\n",
            "Epoch 3/50\n",
            "3754/3754 [==============================] - 28s 8ms/step - loss: 119.0447 - mean_squared_error: 47681.0469\n",
            "Epoch 4/50\n",
            "3754/3754 [==============================] - 30s 8ms/step - loss: 119.0462 - mean_squared_error: 47682.5195\n",
            "Epoch 5/50\n",
            "3754/3754 [==============================] - 29s 8ms/step - loss: 119.0453 - mean_squared_error: 47682.3320\n",
            "Epoch 6/50\n",
            "3754/3754 [==============================] - 29s 8ms/step - loss: 119.0457 - mean_squared_error: 47699.7422\n",
            "Epoch 7/50\n",
            "3754/3754 [==============================] - 29s 8ms/step - loss: 119.0460 - mean_squared_error: 47674.8477\n",
            "Epoch 8/50\n",
            "3754/3754 [==============================] - 29s 8ms/step - loss: 119.0454 - mean_squared_error: 47678.9727\n",
            "Epoch 9/50\n",
            "3754/3754 [==============================] - 29s 8ms/step - loss: 119.0451 - mean_squared_error: 47686.8359\n",
            "Epoch 10/50\n",
            "3754/3754 [==============================] - 30s 8ms/step - loss: 119.0449 - mean_squared_error: 47671.8320\n",
            "Epoch 11/50\n",
            "3754/3754 [==============================] - 29s 8ms/step - loss: 119.0481 - mean_squared_error: 47689.5117\n",
            "Epoch 12/50\n",
            "3754/3754 [==============================] - 29s 8ms/step - loss: 119.0447 - mean_squared_error: 47684.7031\n",
            "Epoch 13/50\n",
            "3754/3754 [==============================] - 29s 8ms/step - loss: 119.0437 - mean_squared_error: 47688.2070\n",
            "Epoch 14/50\n",
            "3754/3754 [==============================] - 29s 8ms/step - loss: 119.0427 - mean_squared_error: 47692.9883\n",
            "Epoch 15/50\n",
            "3754/3754 [==============================] - 29s 8ms/step - loss: 119.0458 - mean_squared_error: 47673.2539\n",
            "Epoch 16/50\n",
            "3754/3754 [==============================] - 28s 8ms/step - loss: 119.0466 - mean_squared_error: 47693.5039\n",
            "Epoch 17/50\n",
            "3754/3754 [==============================] - 29s 8ms/step - loss: 119.0431 - mean_squared_error: 47678.1133\n",
            "Epoch 18/50\n",
            "3754/3754 [==============================] - 29s 8ms/step - loss: 119.0455 - mean_squared_error: 47681.3828\n",
            "Epoch 19/50\n",
            "3754/3754 [==============================] - 29s 8ms/step - loss: 119.0434 - mean_squared_error: 47678.4375\n",
            "Epoch 20/50\n",
            "3754/3754 [==============================] - 30s 8ms/step - loss: 119.0454 - mean_squared_error: 47680.5977\n",
            "Epoch 21/50\n",
            "3754/3754 [==============================] - 29s 8ms/step - loss: 119.0454 - mean_squared_error: 47674.7461\n",
            "Epoch 22/50\n",
            "3754/3754 [==============================] - 29s 8ms/step - loss: 119.0466 - mean_squared_error: 47701.2383\n",
            "Epoch 23/50\n",
            "3754/3754 [==============================] - 29s 8ms/step - loss: 119.0454 - mean_squared_error: 47671.3867\n",
            "Epoch 24/50\n",
            "3754/3754 [==============================] - 30s 8ms/step - loss: 119.0470 - mean_squared_error: 47681.5664\n",
            "Epoch 25/50\n",
            "3754/3754 [==============================] - 29s 8ms/step - loss: 119.0459 - mean_squared_error: 47675.3398\n",
            "Epoch 26/50\n",
            "3754/3754 [==============================] - 28s 8ms/step - loss: 119.0466 - mean_squared_error: 47702.4023\n",
            "Epoch 27/50\n",
            "3754/3754 [==============================] - 29s 8ms/step - loss: 119.0432 - mean_squared_error: 47688.2031\n",
            "Epoch 28/50\n",
            "3754/3754 [==============================] - 29s 8ms/step - loss: 119.0458 - mean_squared_error: 47687.1875\n",
            "Epoch 29/50\n",
            "3754/3754 [==============================] - 29s 8ms/step - loss: 119.0441 - mean_squared_error: 47687.0156\n",
            "Epoch 30/50\n",
            "3754/3754 [==============================] - 29s 8ms/step - loss: 119.0448 - mean_squared_error: 47694.3867\n",
            "Epoch 31/50\n",
            "3754/3754 [==============================] - 30s 8ms/step - loss: 119.0454 - mean_squared_error: 47678.8203\n",
            "Epoch 32/50\n",
            "3754/3754 [==============================] - 30s 8ms/step - loss: 119.0449 - mean_squared_error: 47691.4609\n",
            "Epoch 33/50\n",
            "3754/3754 [==============================] - 28s 8ms/step - loss: 119.0452 - mean_squared_error: 47688.6602\n",
            "Epoch 34/50\n",
            "3754/3754 [==============================] - 29s 8ms/step - loss: 119.0462 - mean_squared_error: 47680.9297\n",
            "Epoch 35/50\n",
            "3754/3754 [==============================] - 29s 8ms/step - loss: 119.0434 - mean_squared_error: 47684.4453\n",
            "Epoch 36/50\n",
            "3754/3754 [==============================] - 29s 8ms/step - loss: 119.0437 - mean_squared_error: 47680.4609\n",
            "Epoch 37/50\n",
            "3754/3754 [==============================] - 29s 8ms/step - loss: 119.0458 - mean_squared_error: 47686.5547\n",
            "Epoch 38/50\n",
            "3754/3754 [==============================] - 30s 8ms/step - loss: 119.0458 - mean_squared_error: 47680.7031\n",
            "Epoch 39/50\n",
            "3754/3754 [==============================] - 31s 8ms/step - loss: 119.0434 - mean_squared_error: 47692.5430\n",
            "Epoch 40/50\n",
            "3754/3754 [==============================] - 28s 8ms/step - loss: 119.0462 - mean_squared_error: 47688.2031\n",
            "Epoch 41/50\n",
            "3754/3754 [==============================] - 28s 8ms/step - loss: 119.0462 - mean_squared_error: 47700.3320\n",
            "Epoch 42/50\n",
            "3754/3754 [==============================] - 29s 8ms/step - loss: 119.0441 - mean_squared_error: 47692.5977\n",
            "Epoch 43/50\n",
            "3754/3754 [==============================] - 29s 8ms/step - loss: 119.0451 - mean_squared_error: 47676.2812\n",
            "Epoch 44/50\n",
            "3754/3754 [==============================] - 29s 8ms/step - loss: 119.0442 - mean_squared_error: 47680.6133\n",
            "Epoch 45/50\n",
            "3754/3754 [==============================] - 29s 8ms/step - loss: 119.0452 - mean_squared_error: 47698.0469\n",
            "Epoch 46/50\n",
            "3754/3754 [==============================] - 31s 8ms/step - loss: 119.0456 - mean_squared_error: 47693.8477\n",
            "Epoch 47/50\n",
            "3754/3754 [==============================] - 30s 8ms/step - loss: 119.0473 - mean_squared_error: 47689.4961\n",
            "Epoch 48/50\n",
            "3754/3754 [==============================] - 29s 8ms/step - loss: 119.0445 - mean_squared_error: 47694.4180\n",
            "Epoch 49/50\n",
            "3754/3754 [==============================] - 29s 8ms/step - loss: 119.0435 - mean_squared_error: 47685.9219\n",
            "Epoch 50/50\n",
            "3754/3754 [==============================] - 29s 8ms/step - loss: 119.0463 - mean_squared_error: 47683.1289\n"
          ]
        }
      ]
    },
    {
      "cell_type": "code",
      "source": [
        "X_test_reshaped = np.expand_dims(X_test.values, axis=1)\n",
        "print(X_test_reshaped.shape)"
      ],
      "metadata": {
        "colab": {
          "base_uri": "https://localhost:8080/"
        },
        "id": "KZ1F5QEDOmP5",
        "outputId": "5b109022-f139-44a3-c259-665490a300c2"
      },
      "execution_count": null,
      "outputs": [
        {
          "output_type": "stream",
          "name": "stdout",
          "text": [
            "(137261, 1, 18)\n"
          ]
        }
      ]
    },
    {
      "cell_type": "code",
      "source": [
        "predictions_test = arb.predict(X_test_reshaped)"
      ],
      "metadata": {
        "colab": {
          "base_uri": "https://localhost:8080/"
        },
        "id": "qeqSj7ePOpn5",
        "outputId": "c0f5052e-7975-45b2-f2eb-9802df907c69"
      },
      "execution_count": null,
      "outputs": [
        {
          "output_type": "stream",
          "name": "stderr",
          "text": [
            "WARNING:tensorflow:6 out of the last 10 calls to <function Model.make_predict_function.<locals>.predict_function at 0x7fe23b31b700> triggered tf.function retracing. Tracing is expensive and the excessive number of tracings could be due to (1) creating @tf.function repeatedly in a loop, (2) passing tensors with different shapes, (3) passing Python objects instead of tensors. For (1), please define your @tf.function outside of the loop. For (2), @tf.function has reduce_retracing=True option that can avoid unnecessary retracing. For (3), please refer to https://www.tensorflow.org/guide/function#controlling_retracing and https://www.tensorflow.org/api_docs/python/tf/function for  more details.\n"
          ]
        },
        {
          "output_type": "stream",
          "name": "stdout",
          "text": [
            "1/1 [==============================] - 1s 684ms/step\n"
          ]
        }
      ]
    },
    {
      "cell_type": "code",
      "source": [
        "print(predictions_test.shape)"
      ],
      "metadata": {
        "colab": {
          "base_uri": "https://localhost:8080/"
        },
        "id": "ErktHbfQOveo",
        "outputId": "76975b42-8a45-4391-ac12-352ee6d18064"
      },
      "execution_count": null,
      "outputs": [
        {
          "output_type": "stream",
          "name": "stdout",
          "text": [
            "(137261, 1)\n"
          ]
        }
      ]
    },
    {
      "cell_type": "code",
      "source": [
        "from sklearn.metrics import mean_squared_error\n",
        "from sklearn.metrics import mean_absolute_error\n",
        "mse = mean_squared_error(y_test, predictions_test)\n",
        "mae = mean_absolute_error(y_test, predictions_test)\n",
        "print(\"Mean Absolute Error (MAE): \", mae)\n",
        "# afficher le résultat\n",
        "print(\"Mean Squared Error (MSE) :\", mse)"
      ],
      "metadata": {
        "colab": {
          "base_uri": "https://localhost:8080/"
        },
        "id": "0vi4M1hQOzX6",
        "outputId": "9e75a147-f615-47bc-cc26-a99eaedf529d"
      },
      "execution_count": null,
      "outputs": [
        {
          "output_type": "stream",
          "name": "stdout",
          "text": [
            "Mean Absolute Error (MAE):  119.60584292798906\n",
            "Mean Squared Error (MSE) : 48170.45767821777\n"
          ]
        }
      ]
    },
    {
      "cell_type": "code",
      "source": [
        "from sklearn.metrics import mean_absolute_error, mean_squared_error\n",
        "import numpy as np\n",
        "\n",
        "# Calcul des différentes métriques d'évaluation\n",
        "mse = mean_squared_error(y_test, predictions_test)\n",
        "mae = mean_absolute_error(y_test, predictions_test)\n",
        "rmse = np.sqrt(mse)\n",
        "nmae = mae / np.mean(y_test)\n",
        "nrmse = rmse / np.mean(y_test)\n",
        "\n",
        "# Affichage des métriques sous forme de tableau\n",
        "print('| Métrique | Valeur |')\n",
        "print('| --- | --- |')\n",
        "print('| MSE | {:.3f} |'.format(mse))\n",
        "print('| MAE | {:.3f} |'.format(mae))\n",
        "print('| RMSE | {:.3f} |'.format(rmse))\n",
        "print('| nMAE | {:.3f} |'.format(nmae))\n",
        "print('| nRMSE | {:.3f} |'.format(nrmse))"
      ],
      "metadata": {
        "colab": {
          "base_uri": "https://localhost:8080/"
        },
        "id": "RTreTLRqO20m",
        "outputId": "8377098d-c2c2-4575-b6ad-79338dea5cd7"
      },
      "execution_count": null,
      "outputs": [
        {
          "output_type": "stream",
          "name": "stdout",
          "text": [
            "| Métrique | Valeur |\n",
            "| --- | --- |\n",
            "| MSE | 48170.458 |\n",
            "| MAE | 119.606 |\n",
            "| RMSE | 219.478 |\n",
            "| nMAE | 0.999 |\n",
            "| nRMSE | 1.833 |\n"
          ]
        }
      ]
    },
    {
      "cell_type": "code",
      "source": [
        "import matplotlib.pyplot as plt\n",
        "\n",
        "plt.scatter(y_test, predictions_test, c='b', marker='.', label='Mesuré')\n",
        "plt.scatter(y_test, y_test, c='r', marker='.', label='Prédit')\n",
        "plt.xlabel(\"shortwave_radiation mesurée\")\n",
        "plt.ylabel(\"shortwave_radiation prédite\")\n",
        "plt.title(\"Comparaison de la puissance mesurée et prédite\")\n",
        "plt.show()\n"
      ],
      "metadata": {
        "id": "_C91J9a8Vj9l",
        "outputId": "f29e5e7b-1692-4d92-92ee-45a95774f688",
        "colab": {
          "base_uri": "https://localhost:8080/",
          "height": 473
        }
      },
      "execution_count": null,
      "outputs": [
        {
          "output_type": "display_data",
          "data": {
            "text/plain": [
              "<Figure size 640x480 with 1 Axes>"
            ],
            "image/png": "[encoded data removed]"
          },
          "metadata": {}
        }
      ]
    }
  ]
}